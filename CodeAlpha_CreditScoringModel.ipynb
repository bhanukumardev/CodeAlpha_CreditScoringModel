{
 "cells": [
  {
   "cell_type": "code",
   "execution_count": null,
   "id": "6e8f0b8a-615f-4642-9b5f-15e4333817bd",
   "metadata": {},
   "outputs": [],
   "source": [
    "Import Libraries"
   ]
  },
  {
   "cell_type": "code",
   "execution_count": 1,
   "id": "fd1d96c5-2fdb-4cc2-b80b-d07fdf15ff76",
   "metadata": {},
   "outputs": [],
   "source": [
    "import pandas as pd\n",
    "import numpy as np\n",
    "from sklearn.model_selection import train_test_split\n",
    "from sklearn.preprocessing import StandardScaler\n",
    "from sklearn.linear_model import LogisticRegression\n",
    "from sklearn.ensemble import RandomForestClassifier\n",
    "from sklearn.metrics import classification_report, roc_auc_score, confusion_matrix\n",
    "import matplotlib.pyplot as plt\n",
    "import seaborn as sns\n"
   ]
  },
  {
   "cell_type": "markdown",
   "id": "663de892-e59c-40b2-b4b8-d9b19c464c23",
   "metadata": {},
   "source": [
    "Load and Inspect Data"
   ]
  },
  {
   "cell_type": "code",
   "execution_count": 2,
   "id": "9855cebf-b40e-4993-aa4f-3f89782045e3",
   "metadata": {},
   "outputs": [
    {
     "name": "stdout",
     "output_type": "stream",
     "text": [
      "Shape: (1000, 21)\n",
      "  status  duration credit_history purpose  credit_amount savings employment  \\\n",
      "0    A11         6            A34     A43           1169     A65        A75   \n",
      "1    A12        48            A32     A43           5951     A61        A73   \n",
      "2    A14        12            A34     A46           2096     A61        A74   \n",
      "3    A11        42            A32     A42           7882     A61        A74   \n",
      "4    A11        24            A33     A40           4870     A61        A73   \n",
      "\n",
      "   installment_rate personal_status_sex guarantors  ...  property age  \\\n",
      "0                 4                 A93       A101  ...      A121  67   \n",
      "1                 2                 A92       A101  ...      A121  22   \n",
      "2                 2                 A93       A101  ...      A121  49   \n",
      "3                 2                 A93       A103  ...      A122  45   \n",
      "4                 3                 A93       A101  ...      A124  53   \n",
      "\n",
      "   other_installment_plans housing number_credits   job people_liable  \\\n",
      "0                     A143    A152              2  A173             1   \n",
      "1                     A143    A152              1  A173             1   \n",
      "2                     A143    A152              1  A172             2   \n",
      "3                     A143    A153              1  A173             2   \n",
      "4                     A143    A153              2  A173             2   \n",
      "\n",
      "   telephone foreign_worker target  \n",
      "0       A192           A201      1  \n",
      "1       A191           A201      2  \n",
      "2       A191           A201      1  \n",
      "3       A191           A201      1  \n",
      "4       A191           A201      2  \n",
      "\n",
      "[5 rows x 21 columns]\n",
      "\n",
      "Target distribution:\n",
      " target\n",
      "1    700\n",
      "2    300\n",
      "Name: count, dtype: int64\n"
     ]
    }
   ],
   "source": [
    "columns = [\n",
    "    \"status\", \"duration\", \"credit_history\", \"purpose\", \"credit_amount\", \"savings\",\n",
    "    \"employment\", \"installment_rate\", \"personal_status_sex\", \"guarantors\",\n",
    "    \"residence_duration\", \"property\", \"age\", \"other_installment_plans\", \"housing\",\n",
    "    \"number_credits\", \"job\", \"people_liable\", \"telephone\", \"foreign_worker\", \"target\"\n",
    "]\n",
    "\n",
    "df = pd.read_csv('german.data', sep=' ', header=None, names=columns)\n",
    "print(\"Shape:\", df.shape)\n",
    "print(df.head())\n",
    "print(\"\\nTarget distribution:\\n\", df['target'].value_counts())\n"
   ]
  },
  {
   "cell_type": "markdown",
   "id": "8208891f-0138-4760-8877-26eaa33370fd",
   "metadata": {},
   "source": [
    " Data Cleaning and Feature Engineering"
   ]
  },
  {
   "cell_type": "code",
   "execution_count": 3,
   "id": "d730e5fe-24e3-4acf-ae00-a6dff3b08dd2",
   "metadata": {},
   "outputs": [
    {
     "name": "stdout",
     "output_type": "stream",
     "text": [
      "\n",
      "Missing values:\n",
      " status                     0\n",
      "duration                   0\n",
      "credit_history             0\n",
      "purpose                    0\n",
      "credit_amount              0\n",
      "savings                    0\n",
      "employment                 0\n",
      "installment_rate           0\n",
      "personal_status_sex        0\n",
      "guarantors                 0\n",
      "residence_duration         0\n",
      "property                   0\n",
      "age                        0\n",
      "other_installment_plans    0\n",
      "housing                    0\n",
      "number_credits             0\n",
      "job                        0\n",
      "people_liable              0\n",
      "telephone                  0\n",
      "foreign_worker             0\n",
      "target                     0\n",
      "dtype: int64\n",
      "\n",
      "Sample with new feature:\n",
      "    credit_amount  duration  credit_per_month\n",
      "0           1169         6        194.833333\n",
      "1           5951        48        123.979167\n",
      "2           2096        12        174.666667\n",
      "3           7882        42        187.666667\n",
      "4           4870        24        202.916667\n"
     ]
    }
   ],
   "source": [
    "# Check for missing values\n",
    "print(\"\\nMissing values:\\n\", df.isnull().sum())\n",
    "\n",
    "# Create a new feature: credit per month\n",
    "df['credit_per_month'] = df['credit_amount'] / df['duration']\n",
    "print(\"\\nSample with new feature:\\n\", df[['credit_amount', 'duration', 'credit_per_month']].head())\n"
   ]
  },
  {
   "cell_type": "markdown",
   "id": "b092985c-10c0-405d-9b76-87dc40c2d7e4",
   "metadata": {},
   "source": [
    " Encode Target and Categorical Variables"
   ]
  },
  {
   "cell_type": "code",
   "execution_count": 4,
   "id": "dd6a2309-526e-45b0-9f8b-f32b0d7738c9",
   "metadata": {},
   "outputs": [
    {
     "name": "stdout",
     "output_type": "stream",
     "text": [
      "\n",
      "Encoded target distribution:\n",
      " target\n",
      "0    700\n",
      "1    300\n",
      "Name: count, dtype: int64\n",
      "\n",
      "Encoded DataFrame shape: (1000, 50)\n",
      "   duration  credit_amount  installment_rate  residence_duration  age  \\\n",
      "0         6           1169                 4                   4   67   \n",
      "1        48           5951                 2                   2   22   \n",
      "2        12           2096                 2                   3   49   \n",
      "3        42           7882                 2                   4   45   \n",
      "4        24           4870                 3                   4   53   \n",
      "\n",
      "   number_credits  people_liable  target  credit_per_month  status_A12  ...  \\\n",
      "0               2              1       0        194.833333       False  ...   \n",
      "1               1              1       1        123.979167        True  ...   \n",
      "2               1              2       0        174.666667       False  ...   \n",
      "3               1              2       0        187.666667       False  ...   \n",
      "4               2              2       1        202.916667       False  ...   \n",
      "\n",
      "   property_A124  other_installment_plans_A142  other_installment_plans_A143  \\\n",
      "0          False                         False                          True   \n",
      "1          False                         False                          True   \n",
      "2          False                         False                          True   \n",
      "3          False                         False                          True   \n",
      "4           True                         False                          True   \n",
      "\n",
      "   housing_A152  housing_A153  job_A172  job_A173  job_A174  telephone_A192  \\\n",
      "0          True         False     False      True     False            True   \n",
      "1          True         False     False      True     False           False   \n",
      "2          True         False      True     False     False           False   \n",
      "3         False          True     False      True     False           False   \n",
      "4         False          True     False      True     False           False   \n",
      "\n",
      "   foreign_worker_A202  \n",
      "0                False  \n",
      "1                False  \n",
      "2                False  \n",
      "3                False  \n",
      "4                False  \n",
      "\n",
      "[5 rows x 50 columns]\n"
     ]
    }
   ],
   "source": [
    "# Encode target: 1 (good) -> 0, 2 (bad) -> 1\n",
    "df['target'] = df['target'].map({1: 0, 2: 1})\n",
    "print(\"\\nEncoded target distribution:\\n\", df['target'].value_counts())\n",
    "\n",
    "# One-hot encode categorical columns\n",
    "categorical_cols = df.select_dtypes(include=['object']).columns.tolist()\n",
    "df_encoded = pd.get_dummies(df, columns=categorical_cols, drop_first=True)\n",
    "print(\"\\nEncoded DataFrame shape:\", df_encoded.shape)\n",
    "print(df_encoded.head())\n"
   ]
  },
  {
   "cell_type": "markdown",
   "id": "dca2ba96-e9a7-496c-a687-9b532c0e099d",
   "metadata": {},
   "source": [
    "Train/Test Split and Scaling"
   ]
  },
  {
   "cell_type": "code",
   "execution_count": 5,
   "id": "93d9d155-4831-4815-9b70-c4fa97b32347",
   "metadata": {},
   "outputs": [
    {
     "name": "stdout",
     "output_type": "stream",
     "text": [
      "Train shape: (800, 49) Test shape: (200, 49)\n"
     ]
    }
   ],
   "source": [
    "X = df_encoded.drop('target', axis=1)\n",
    "y = df_encoded['target']\n",
    "\n",
    "X_train, X_test, y_train, y_test = train_test_split(\n",
    "    X, y, test_size=0.2, random_state=42, stratify=y\n",
    ")\n",
    "print(\"Train shape:\", X_train.shape, \"Test shape:\", X_test.shape)\n",
    "\n",
    "# Scale features for models that benefit from it\n",
    "scaler = StandardScaler()\n",
    "X_train_scaled = scaler.fit_transform(X_train)\n",
    "X_test_scaled = scaler.transform(X_test)\n"
   ]
  },
  {
   "cell_type": "markdown",
   "id": "b4ff4b8a-4c91-43e1-889a-c003c5dd9c98",
   "metadata": {},
   "source": [
    "Model Building"
   ]
  },
  {
   "cell_type": "markdown",
   "id": "c7acc820-2baf-4d71-b748-92239e1e6a8c",
   "metadata": {},
   "source": [
    "A. Logistic Regression"
   ]
  },
  {
   "cell_type": "code",
   "execution_count": 6,
   "id": "db0799ef-ce50-41ec-b566-bee92a84e21d",
   "metadata": {},
   "outputs": [
    {
     "name": "stdout",
     "output_type": "stream",
     "text": [
      "\n",
      "Logistic Regression Results:\n",
      "              precision    recall  f1-score   support\n",
      "\n",
      "           0       0.83      0.86      0.84       140\n",
      "           1       0.64      0.58      0.61        60\n",
      "\n",
      "    accuracy                           0.78       200\n",
      "   macro avg       0.73      0.72      0.73       200\n",
      "weighted avg       0.77      0.78      0.77       200\n",
      "\n",
      "ROC-AUC: 0.8014285714285715\n",
      "Confusion Matrix:\n",
      " [[120  20]\n",
      " [ 25  35]]\n"
     ]
    }
   ],
   "source": [
    "lr = LogisticRegression(max_iter=1000, solver='liblinear')\n",
    "lr.fit(X_train_scaled, y_train)\n",
    "y_pred_lr = lr.predict(X_test_scaled)\n",
    "y_proba_lr = lr.predict_proba(X_test_scaled)[:, 1]\n",
    "print(\"\\nLogistic Regression Results:\")\n",
    "print(classification_report(y_test, y_pred_lr))\n",
    "print(\"ROC-AUC:\", roc_auc_score(y_test, y_proba_lr))\n",
    "print(\"Confusion Matrix:\\n\", confusion_matrix(y_test, y_pred_lr))\n"
   ]
  },
  {
   "cell_type": "markdown",
   "id": "ba4a7079-3faf-4e22-b092-bdb8b97e0b77",
   "metadata": {},
   "source": [
    "B. Random Forest"
   ]
  },
  {
   "cell_type": "code",
   "execution_count": 7,
   "id": "23bc5854-b648-4a12-b433-6763899eb914",
   "metadata": {},
   "outputs": [
    {
     "name": "stdout",
     "output_type": "stream",
     "text": [
      "\n",
      "Random Forest Results:\n",
      "              precision    recall  f1-score   support\n",
      "\n",
      "           0       0.78      0.96      0.86       140\n",
      "           1       0.79      0.38      0.52        60\n",
      "\n",
      "    accuracy                           0.79       200\n",
      "   macro avg       0.79      0.67      0.69       200\n",
      "weighted avg       0.79      0.79      0.76       200\n",
      "\n",
      "ROC-AUC: 0.7756547619047619\n",
      "Confusion Matrix:\n",
      " [[134   6]\n",
      " [ 37  23]]\n"
     ]
    }
   ],
   "source": [
    "rf = RandomForestClassifier(n_estimators=100, random_state=42, class_weight='balanced')\n",
    "rf.fit(X_train, y_train)\n",
    "y_pred_rf = rf.predict(X_test)\n",
    "y_proba_rf = rf.predict_proba(X_test)[:, 1]\n",
    "print(\"\\nRandom Forest Results:\")\n",
    "print(classification_report(y_test, y_pred_rf))\n",
    "print(\"ROC-AUC:\", roc_auc_score(y_test, y_proba_rf))\n",
    "print(\"Confusion Matrix:\\n\", confusion_matrix(y_test, y_pred_rf))\n"
   ]
  },
  {
   "cell_type": "markdown",
   "id": "215da58d-8321-4d40-b8cc-5b5a0fb61dce",
   "metadata": {},
   "source": [
    "Feature Importance"
   ]
  },
  {
   "cell_type": "markdown",
   "id": "d2655841-1926-40aa-9fa5-df52cb9b3857",
   "metadata": {},
   "source": [
    "A. Logistic Regression"
   ]
  },
  {
   "cell_type": "code",
   "execution_count": 8,
   "id": "fcd32184-b950-403b-8844-687230ae2641",
   "metadata": {},
   "outputs": [
    {
     "name": "stdout",
     "output_type": "stream",
     "text": [
      "\n",
      "Top Logistic Regression Features:\n",
      "                     feature  coefficient\n",
      "10               status_A14    -0.778845\n",
      "14       credit_history_A34    -0.636671\n",
      "33  personal_status_sex_A93    -0.484862\n",
      "39            property_A124     0.449867\n",
      "43             housing_A153    -0.436409\n",
      "27              savings_A65    -0.425322\n",
      "15              purpose_A41    -0.399933\n",
      "2          installment_rate     0.393462\n",
      "30           employment_A74    -0.367473\n",
      "0                  duration     0.346045\n"
     ]
    }
   ],
   "source": [
    "lr_importances = pd.DataFrame({\n",
    "    'feature': X_train.columns,\n",
    "    'coefficient': lr.coef_[0]\n",
    "}).sort_values(by='coefficient', key=abs, ascending=False)\n",
    "print(\"\\nTop Logistic Regression Features:\\n\", lr_importances.head(10))\n"
   ]
  },
  {
   "cell_type": "markdown",
   "id": "729995ec-24c3-4b3a-bffc-5e4ad79e7d1b",
   "metadata": {},
   "source": [
    "B. Random Forest"
   ]
  },
  {
   "cell_type": "code",
   "execution_count": 9,
   "id": "e57be183-d5aa-4d14-996f-597bf4d3168d",
   "metadata": {
    "collapsed": true,
    "jupyter": {
     "outputs_hidden": true
    }
   },
   "outputs": [
    {
     "name": "stdout",
     "output_type": "stream",
     "text": [
      "\n",
      "Top Random Forest Features:\n",
      "                          feature  importance\n",
      "1                  credit_amount    0.105077\n",
      "7               credit_per_month    0.101382\n",
      "4                            age    0.080242\n",
      "0                       duration    0.079053\n",
      "10                    status_A14    0.078274\n",
      "2               installment_rate    0.033996\n",
      "3             residence_duration    0.032522\n",
      "14            credit_history_A34    0.028483\n",
      "41  other_installment_plans_A143    0.022946\n",
      "27                   savings_A65    0.020330\n"
     ]
    },
    {
     "data": {
      "image/png": "[encoded data removed]",
      "text/plain": [
       "<Figure size 800x500 with 1 Axes>"
      ]
     },
     "metadata": {},
     "output_type": "display_data"
    }
   ],
   "source": [
    "rf_importances = pd.DataFrame({\n",
    "    'feature': X_train.columns,\n",
    "    'importance': rf.feature_importances_\n",
    "}).sort_values(by='importance', ascending=False)\n",
    "print(\"\\nTop Random Forest Features:\\n\", rf_importances.head(10))\n",
    "\n",
    "# Plot\n",
    "plt.figure(figsize=(8,5))\n",
    "sns.barplot(x='importance', y='feature', data=rf_importances.head(10))\n",
    "plt.title('Top 10 Random Forest Features')\n",
    "plt.show()\n"
   ]
  },
  {
   "cell_type": "markdown",
   "id": "089ad462-3288-454f-a461-d69e799d7c91",
   "metadata": {},
   "source": [
    "Save Model for Deployment"
   ]
  },
  {
   "cell_type": "code",
   "execution_count": 10,
   "id": "b1113415-a4d8-4c57-bd0c-e7c0a99fe1b5",
   "metadata": {},
   "outputs": [
    {
     "name": "stdout",
     "output_type": "stream",
     "text": [
      "Model and scaler saved.\n"
     ]
    }
   ],
   "source": [
    "import joblib\n",
    "joblib.dump(rf, 'credit_scoring_rf_model.pkl')\n",
    "joblib.dump(scaler, 'credit_scoring_scaler.pkl')\n",
    "joblib.dump(X_train.columns.tolist(), 'credit_scoring_features.pkl')\n",
    "print(\"Model and scaler saved.\")\n"
   ]
  },
  {
   "cell_type": "markdown",
   "id": "ae902d49-13fa-4e7a-8736-4f8c79970b31",
   "metadata": {},
   "source": [
    "Predict on New Data (Optional/Advanced)"
   ]
  },
  {
   "cell_type": "code",
   "execution_count": 11,
   "id": "f8af3860-4bd8-49a8-abcb-eab701e01fae",
   "metadata": {},
   "outputs": [
    {
     "name": "stdout",
     "output_type": "stream",
     "text": [
      "{'prediction': 'Good', 'probability': 0.2}\n"
     ]
    }
   ],
   "source": [
    "def score_applicant(applicant_dict):\n",
    "    applicant_df = pd.DataFrame([applicant_dict])\n",
    "    applicant_encoded = pd.get_dummies(applicant_df)\n",
    "    for col in X_train.columns:\n",
    "        if col not in applicant_encoded.columns:\n",
    "            applicant_encoded[col] = 0\n",
    "    applicant_encoded = applicant_encoded[X_train.columns]\n",
    "    applicant_scaled = scaler.transform(applicant_encoded)\n",
    "    applicant_scaled_df = pd.DataFrame(applicant_scaled, columns=X_train.columns)\n",
    "    prediction = rf.predict(applicant_scaled_df)\n",
    "    probability = rf.predict_proba(applicant_scaled_df)[0, 1]\n",
    "    return {\"prediction\": \"Bad\" if prediction[0] else \"Good\", \"probability\": probability}\n",
    "\n",
    "# Example usage\n",
    "new_applicant = {\n",
    "    \"status\": \"A11\", \"duration\": 12, \"credit_history\": \"A34\", \"purpose\": \"A43\",\n",
    "    \"credit_amount\": 2500, \"savings\": \"A61\", \"employment\": \"A75\", \"installment_rate\": 2,\n",
    "    \"personal_status_sex\": \"A93\", \"guarantors\": \"A101\", \"residence_duration\": 3,\n",
    "    \"property\": \"A121\", \"age\": 35, \"other_installment_plans\": \"A143\", \"housing\": \"A152\",\n",
    "    \"number_credits\": 1, \"job\": \"A173\", \"people_liable\": 1, \"telephone\": \"A192\", \"foreign_worker\": \"A201\",\n",
    "    \"credit_per_month\": 208.33\n",
    "}\n",
    "print(score_applicant(new_applicant))\n"
   ]
  },
  {
   "cell_type": "code",
   "execution_count": 2,
   "id": "ab505c72-26f5-4f94-b724-f18c3ac7c67b",
   "metadata": {},
   "outputs": [
    {
     "ename": "NameError",
     "evalue": "name 'rf' is not defined",
     "output_type": "error",
     "traceback": [
      "\u001b[1;31m---------------------------------------------------------------------------\u001b[0m",
      "\u001b[1;31mNameError\u001b[0m                                 Traceback (most recent call last)",
      "Cell \u001b[1;32mIn[2], line 2\u001b[0m\n\u001b[0;32m      1\u001b[0m \u001b[38;5;28;01mimport\u001b[39;00m \u001b[38;5;21;01mjoblib\u001b[39;00m\n\u001b[1;32m----> 2\u001b[0m joblib\u001b[38;5;241m.\u001b[39mdump(rf, \u001b[38;5;124m'\u001b[39m\u001b[38;5;124mcredit_scoring_rf_model.pkl\u001b[39m\u001b[38;5;124m'\u001b[39m)\n",
      "\u001b[1;31mNameError\u001b[0m: name 'rf' is not defined"
     ]
    }
   ],
   "source": [
    "import joblib\n",
    "joblib.dump(rf, 'credit_scoring_rf_model.pkl')\n"
   ]
  },
  {
   "cell_type": "code",
   "execution_count": 3,
   "id": "d577141f-7d6f-45ca-b2a4-c8bf8a75c7ca",
   "metadata": {},
   "outputs": [
    {
     "name": "stdout",
     "output_type": "stream",
     "text": [
      "['credit_scoring_rf_model.pkl']\n"
     ]
    }
   ],
   "source": [
    "import pandas as pd\n",
    "from sklearn.model_selection import train_test_split\n",
    "from sklearn.ensemble import RandomForestClassifier\n",
    "import joblib\n",
    "\n",
    "# Load data\n",
    "columns = [\n",
    "    \"status\", \"duration\", \"credit_history\", \"purpose\", \"credit_amount\", \"savings\",\n",
    "    \"employment\", \"installment_rate\", \"personal_status_sex\", \"guarantors\",\n",
    "    \"residence_duration\", \"property\", \"age\", \"other_installment_plans\", \"housing\",\n",
    "    \"number_credits\", \"job\", \"people_liable\", \"telephone\", \"foreign_worker\", \"target\"\n",
    "]\n",
    "df = pd.read_csv('german.data', sep=' ', header=None, names=columns)\n",
    "\n",
    "# Encode target\n",
    "df['target'] = df['target'].map({1: 0, 2: 1})\n",
    "\n",
    "# One-hot encode categorical columns\n",
    "categorical_cols = df.select_dtypes(include=['object']).columns.tolist()\n",
    "df_encoded = pd.get_dummies(df, columns=categorical_cols, drop_first=True)\n",
    "\n",
    "# Split data\n",
    "X = df_encoded.drop('target', axis=1)\n",
    "y = df_encoded['target']\n",
    "X_train, X_test, y_train, y_test = train_test_split(X, y, test_size=0.2, random_state=42, stratify=y)\n",
    "\n",
    "# Train Random Forest\n",
    "rf = RandomForestClassifier(n_estimators=100, random_state=42, class_weight='balanced')\n",
    "rf.fit(X_train, y_train)\n",
    "\n",
    "# Save model\n",
    "joblib.dump(rf, 'credit_scoring_rf_model.pkl')\n",
    "\n",
    "# Verify file saved\n",
    "import os\n",
    "print([f for f in os.listdir() if f.endswith('.pkl')])\n"
   ]
  },
  {
   "cell_type": "code",
   "execution_count": null,
   "id": "a0ceaf00-914d-4ee5-996c-152294340176",
   "metadata": {},
   "outputs": [],
   "source": []
  }
 ],
 "metadata": {
  "kernelspec": {
   "display_name": "Python [conda env:base] *",
   "language": "python",
   "name": "conda-base-py"
  },
  "language_info": {
   "codemirror_mode": {
    "name": "ipython",
    "version": 3
   },
   "file_extension": ".py",
   "mimetype": "text/x-python",
   "name": "python",
   "nbconvert_exporter": "python",
   "pygments_lexer": "ipython3",
   "version": "3.12.7"
  }
 },
 "nbformat": 4,
 "nbformat_minor": 5
}
